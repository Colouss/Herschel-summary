{
 "cells": [
  {
   "cell_type": "markdown",
   "id": "d9eacc00-9134-462f-9252-3c0c570f79bc",
   "metadata": {},
   "source": [
    "One of the main tasks of the project is generating an HTML website with the purpose of having a visual catalog of the sample of Herschel galaxies. We need this to more easily reference each galaxies, as well as visually inspect its various properties like image quality, ellipse generation, and profile trends.\n",
    "\n",
    "The notebook has 4 code blocks in it. Two to call all the necessary functions and set the directed paths, one to gather images from the Legacy Survey's online website, and one to write the general \"Home\" html webpage.\n",
    "\n",
    "The following 2 codes are used to call the functions and set the directed paths."
   ]
  },
  {
   "cell_type": "code",
   "execution_count": 6,
   "id": "e7fbe398-12de-41f8-ad42-c97f9f1393ff",
   "metadata": {},
   "outputs": [],
   "source": [
    "#Import the necessary packages (some might be unecessary)\n",
    "\n",
    "from astropy.table import Table\n",
    "from matplotlib import pyplot as plt\n",
    "%matplotlib inline\n",
    "import os\n",
    "import numpy as np\n",
    "from astropy.io.ascii import masked\n",
    "from astropy.io import ascii\n",
    "import glob\n",
    "from astropy.io import fits\n",
    "import wget\n",
    "import matplotlib.image as mpimg\n",
    "from astropy.wcs import WCS\n",
    "from scipy.stats import scoreatpercentile\n",
    "from astropy.visualization import simple_norm\n",
    "from reproject import reproject_interp\n",
    "import sys\n",
    "from IPython.display import clear_output\n",
    "from photutils.detection import DAOStarFinder\n",
    "from astropy.stats import sigma_clipped_stats\n",
    "from photutils.aperture import CircularAperture\n",
    "from astropy.visualization import SqrtStretch\n",
    "from astropy.visualization import ImageNormalize\n",
    "from astropy.visualization import LogStretch\n",
    "from astropy.wcs import WCS\n",
    "import glob\n",
    "import os\n",
    "from scipy.stats import scoreatpercentile\n",
    "import astropy.units as u\n",
    "from IPython.display import clear_output\n",
    "from matplotlib import colors\n",
    "import warnings\n",
    "import csv\n",
    "warnings.filterwarnings('ignore')"
   ]
  },
  {
   "cell_type": "code",
   "execution_count": 7,
   "id": "aca73873-8dc7-4c17-90e1-456a12813c28",
   "metadata": {},
   "outputs": [],
   "source": [
    "mycolors = plt.rcParams['axes.prop_cycle'].by_key()['color']\n",
    "#Set the home path\n",
    "os.environ['HOME'] ='C:/Users/USER/Documents/GitHub' #general path for all the coding space\n",
    "homedir = os.getenv(\"HOME\")\n",
    "tabledir = homedir+'/Herschel summary/tables' #tables from the VFS\n",
    "datadir = homedir+'/Herschel summary/html resource' #outputting the pngs"
   ]
  },
  {
   "cell_type": "markdown",
   "id": "5aa70421-0f38-488a-b7fa-118ed24334c5",
   "metadata": {},
   "source": [
    "This next code generates cutouts png from the Legacy Survey by first finding if there is a galaxy .fits file inside the specifed folders of galaxies. Then it extracts the RA and DEC of those galaxies. Using these two points, it searches the Legacy Survey to find an image of the galaxy, and saves it locally."
   ]
  },
  {
   "cell_type": "code",
   "execution_count": null,
   "id": "ca65c0b5-1c41-4432-b56b-479f21fdc8e1",
   "metadata": {},
   "outputs": [],
   "source": [
    "#get optical cutouts pngs from the Legacy Survey\n",
    "csv_file = tabledir+'/Photometrytesting.csv'\n",
    "galaxy = Table.read(csv_file)\n",
    "pixscale=1   #standard\n",
    "pscale = 0\n",
    "xsize = 0\n",
    "for i in range(len(galaxy)):\n",
    "    galaxy_name = str(galaxy['GALAXY'][i])\n",
    "    path =  datadir+'/pipeline/'+galaxy_name\n",
    "    destination_folder = path+'/HPPUNIMAPR/'\n",
    "    partial_name = 'hpacs_25HPPUNIMAPR'\n",
    "    found_files = find_files(destination_folder, partial_name)\n",
    "    VFID = f\"VFID{int(galaxy['VF_ID'][i]):04d}\"\n",
    "    filename_LS = datadir+'/png/'+VFID+'-'+galaxy_name+'-LS.jpg'\n",
    "    RA = galaxy['RA_MOMENT'][i]\n",
    "    DEC = galaxy['DEC_MOMENT'][i]\n",
    "    if os.path.exists(path):\n",
    "        if found_files:\n",
    "            found_file = found_files[0]\n",
    "            image, head = fits.getdata(found_file, header=True)\n",
    "            wcs_info = WCS(head) \n",
    "            pscale=np.abs(float(head['CDELT1']))   #grab transformation matrix of Herschel image\n",
    "            xsize=np.abs(int(head['NAXIS1']))   #grab length of Herschel image\n",
    "            xsize_arcsec=pscale*3600*xsize   #length convert to arcseconds\n",
    "            imsize=int(xsize_arcsec/pixscale)   #convert length to an integer\n",
    "            imsize=str(imsize)   #convert integer length to a...string       \n",
    "            image_url = f'https://www.legacysurvey.org/viewer/cutout.jpg?ra={RA}&dec={DEC}&layer=ls-dr9&size={imsize}&pixscale={1}'\n",
    "            if os.path.exists(filename_LS):\n",
    "                os.remove(filename_LS)\n",
    "                imageLS = wget.download(image_url,out=filename_LS)\n",
    "            else:\n",
    "                imageLS = wget.download(image_url,out=filename_LS)\n",
    "    else:\n",
    "        print(f\"Galaxy not found: {VFID}-{galaxy_name}\")\n",
    "print('done')"
   ]
  },
  {
   "cell_type": "markdown",
   "id": "3ae092ef-bb69-4b79-b397-81aad77c6315",
   "metadata": {},
   "source": [
    "This next codeblock aims to generate the central home HTML page for the project. Which is located here https://herschelimages.ku.edu/p/Tom/output.html . (username : herschel ; password : xyvQHP,wHLoT ) It writes a standard HTML webpage, then iterates over the list of galaxies and generating their path to the specific pages, the legacy survey postage stamps, as well as any of the 3 bands of Herschel for every galaxies. There is also a B/G significant mask and R significant mask parameter that signifies whenever over 70% of a galaxy is masked or not."
   ]
  },
  {
   "cell_type": "code",
   "execution_count": null,
   "id": "3e913925-ec21-4101-939b-e00801cf21a4",
   "metadata": {},
   "outputs": [],
   "source": [
    "#Writes the output html file in \n",
    "# Open the HTML file in write mode\n",
    "with open(\"output.html\", \"w\") as html:\n",
    "    # Write the HTML code line by line\n",
    "    html.write('<html><body>\\n')\n",
    "    html.write('<title>Herschel images</title>\\n')\n",
    "    html.write('<style type=\"text/css\">\\n')\n",
    "    html.write('table, td, th {padding: 5px; text-align: center; border: 2px solid black;}\\n')\n",
    "    html.write('p {display: inline-block;;}\\n')\n",
    "    html.write('</style>\\n')\n",
    "    html.write('<table><tr><th>#</th><th>VFID</th><th>Name</th><th>Legacy image</th><th>Herschel-UnimapBlue (70microns)</th><th>Herschel-UnimapBlue (100microns)</th><th>Herschel-UnimapRed (160microns)</th><th>RA</th><th>DEC</th><th>B/G significant mask</th><th>R significant mask</th></tr></p>')\n",
    "    \n",
    "    # Read the CSV file containing the galaxy data\n",
    "    galaxy = Table.read(tabledir+'/Photometrytesting2.csv')\n",
    "\n",
    "    for i in range(len(galaxy)):\n",
    "        n = str(i+1)\n",
    "        galaxy_name = str(galaxy['GALAXY'][i])\n",
    "        path = datadir + '\\\\pipeline\\\\' + galaxy_name\n",
    "        VFID = f\"VFID{int(galaxy['VF_ID'][i]):04d}\"\n",
    "        RA = f\"{galaxy['RA_MOMENT'][i]:.3f}\"\n",
    "        DEC = f\"{galaxy['DEC_MOMENT'][i]:.3f}\"\n",
    "        \n",
    "        # Fetch the percentage values from the table\n",
    "        good_percentage_blue_green = galaxy['good_perc_blue_green'][i]\n",
    "        good_percentage_red = galaxy['good_perc_red'][i]\n",
    "        \n",
    "        # Check if values are less than 0.95 and set the mask accordingly\n",
    "        bg_significant_mask = 'True' if good_percentage_blue_green < 0.95 else 'False'\n",
    "        r_significant_mask = 'True' if good_percentage_red < 0.95 else 'False'\n",
    "        \n",
    "        if os.path.exists(path):\n",
    "            html.write('<tr><td>'+n+'</td><td><a href=\"galaxy/html/'+VFID+'-'+galaxy_name+'.html\">'+VFID+'</td><td>'+galaxy_name+'</td><td><a href=\"galaxy/png/'+VFID+'-'+galaxy_name+'-LS.jpg\"><img src=\"galaxy/png/'+VFID+'-'+galaxy_name+'-LS.jpg\" alt=\"'+VFID+'-'+galaxy_name+'-LS.jpg\" height=\"auto\" width=\"100%\"></a></td><td><a href=\"galaxy/png/'+VFID+'-'+galaxy_name+'blue.png\"><img src=\"galaxy/png/'+VFID+'-'+galaxy_name+'blue.png\" alt=\"'+VFID+'-'+galaxy_name+'blue.jpg\" height=\"auto\" width=\"100%\"></a></td><td><a href=\"galaxy/png/'+VFID+'-'+galaxy_name+'green.png\"><img src=\"galaxy/png/'+VFID+'-'+galaxy_name+'green.png\" alt=\"'+VFID+'-'+galaxy_name+'green.jpg\" height=\"auto\" width=\"100%\"></a></td><td><a href=\"galaxy/png/'+VFID+'-'+galaxy_name+'red.png\"><img src=\"galaxy/png/'+VFID+'-'+galaxy_name+'red.png\" alt=\"'+VFID+'-'+galaxy_name+'red.jpg\" height=\"auto\" width=\"100%\"></a></td><td>'+RA+'</td><td>'+DEC+'</td><td>'+bg_significant_mask+'</td><td>'+r_significant_mask+'</td></tr>\\n')\n",
    "        else:\n",
    "            continue\n",
    "\n",
    "    html.write('</tr></table>\\n')\n",
    "    html.write('<br /><br />\\n')\n",
    "    html.write('</html></body>\\n')\n",
    "\n",
    "print(\"HTML code has been written to output.html\")"
   ]
  },
  {
   "cell_type": "markdown",
   "id": "8d8e8d98-68ef-4817-aabe-723c90f9face",
   "metadata": {},
   "source": [
    "Refer to the photoemtry notebook for generation of the individual HTML files, as I want the images from there first. There is a codeblock in there that both calculates the photometry, AND generate a postage stamp of the galaxes."
   ]
  },
  {
   "cell_type": "code",
   "execution_count": null,
   "id": "14a797f9-ef60-4ac9-b884-15c9496c8044",
   "metadata": {},
   "outputs": [],
   "source": []
  }
 ],
 "metadata": {
  "kernelspec": {
   "display_name": "Python 3 (ipykernel)",
   "language": "python",
   "name": "python3"
  },
  "language_info": {
   "codemirror_mode": {
    "name": "ipython",
    "version": 3
   },
   "file_extension": ".py",
   "mimetype": "text/x-python",
   "name": "python",
   "nbconvert_exporter": "python",
   "pygments_lexer": "ipython3",
   "version": "3.11.7"
  }
 },
 "nbformat": 4,
 "nbformat_minor": 5
}
